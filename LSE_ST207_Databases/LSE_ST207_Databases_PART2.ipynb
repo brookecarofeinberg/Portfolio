{
 "cells": [
  {
   "cell_type": "code",
   "execution_count": null,
   "metadata": {
    "id": "scmVUI7NW-jk"
   },
   "outputs": [],
   "source": [
    "# install the Neo4j Python driver\n",
    "!pip install neo4j"
   ]
  },
  {
   "cell_type": "code",
   "execution_count": 2,
   "metadata": {
    "id": "eD8mco0XdfFX"
   },
   "outputs": [],
   "source": [
    "# importing necessary libraries\n",
    "from neo4j import GraphDatabase\n",
    "from neo4j.exceptions import ServiceUnavailable\n",
    "import logging"
   ]
  },
  {
   "cell_type": "code",
   "execution_count": 3,
   "metadata": {
    "id": "5194e1vHdm8E"
   },
   "outputs": [],
   "source": [
    "#AURA DB connection\n",
    "URI = \"neo4j+s://3759a79c.databases.neo4j.io\"\n",
    "\n",
    "user = \"neo4j\"\n",
    "password = \"JHmeWbfQMqRPdiUgem_DVMqatlanF2s0B-Tb59KQnVc\"\n",
    "AUTH = (user, password)"
   ]
  },
  {
   "cell_type": "code",
   "execution_count": 4,
   "metadata": {
    "id": "FFcH8ajUfrDa"
   },
   "outputs": [],
   "source": [
    "#connection\n",
    "with GraphDatabase.driver(URI, auth=AUTH) as driver:\n",
    "    driver.verify_connectivity()"
   ]
  },
  {
   "cell_type": "code",
   "execution_count": 39,
   "metadata": {
    "id": "FTqvW6KTPI7n"
   },
   "outputs": [],
   "source": [
    "teams = [{\"TName\": \"Cubs\", \"Location\": \"Chicago\", \"Division\": \"Central\", \"League\": \"Major\"},\n",
    "         {\"TName\": \"Marlins\", \"Location\": \"Miami\", \"Division\": \"East\", \"League\": \"Major\"},\n",
    "         {\"TName\": \"Mets\", \"Location\": \"New York\", \"Division\": \"East\", \"League\": \"Major\"},\n",
    "         {\"TName\": \"Pirates\", \"Location\": \"Pittsburgh\", \"Division\": \"Central\", \"League\": \"Major\"}]"
   ]
  },
  {
   "cell_type": "code",
   "execution_count": 61,
   "metadata": {
    "id": "fPlIiwX0RyRS"
   },
   "outputs": [],
   "source": [
    "personnel= [{\"P_ID\": 1, \"FName\": \"John\", \"LName\": \"Smith\", \"BLocation\": \"Orlando\", \"BDate\": \"1995-01-05\"},\n",
    "            {\"P_ID\": 2, \"FName\": \"Hudson\", \"LName\": \"Brown\", \"BLocation\": \"Dallas\", \"BDate\": \"1999-04-15\"},\n",
    "            {\"P_ID\": 3, \"FName\": \"Scott\", \"LName\": \"Weitz\", \"BLocation\": \"Bethesda\", \"BDate\": \"2000-03-01\"},\n",
    "            {\"P_ID\": 4, \"FName\": \"Tristen\", \"LName\": \"Park\", \"BLocation\": \"Chicago\", \"BDate\": \"1995-05-15\"},\n",
    "            {\"P_ID\": 5, \"FName\": \"Ryan\", \"LName\": \"Varnagy\", \"BLocation\": \"Miami\", \"BDate\": \"1996-07-07\"},\n",
    "            {\"P_ID\": 6, \"FName\": \"Jackson\", \"LName\": \"Thurlow\", \"BLocation\": \"Brookly\", \"BDate\": \"1998-05-14\"},\n",
    "            {\"P_ID\": 7, \"FName\": \"Seth\", \"LName\": \"Sanderson\", \"BLocation\": \"San Jose\", \"BDate\": \"1995=9-07-11\"},\n",
    "            {\"P_ID\": 8, \"FName\": \"Henry\", \"LName\": \"Fina\", \"BLocation\": \"Boston\", \"BDate\": \"1997-03-06\"},\n",
    "            {\"P_ID\": 9, \"FName\": \"Braden\", \"LName\": \"Bowmen\", \"BLocation\": \"San Diego\", \"BDate\": \"2000-01-20\"},\n",
    "            {\"P_ID\": 10, \"FName\": \"Jake\", \"LName\": \"Tracy\", \"BLocation\": \"Madison\", \"BDate\": \"1998-09-25\"},\n",
    "            {\"P_ID\": 11, \"FName\": \"Brody\", \"LName\": \"Brooks\", \"BLocation\": \"Seattle\", \"BDate\": \"1996-12-18\"},\n",
    "            {\"P_ID\": 12, \"FName\": \"Zach\", \"LName\": \"Lane\", \"BLocation\": \"Columbus\", \"BDate\": \"1996-12-18\"},\n",
    "            {\"P_ID\": 13, \"FName\": \"Lucas\", \"LName\": \"Rogers\", \"BLocation\": \"Denver\", \"BDate\": \"1999-11-22\"},\n",
    "            {\"P_ID\": 14, \"FName\": \"Vito\", \"LName\": \"Barahona\", \"BLocation\": \"Dallas\", \"BDate\": \"1996-02-09\"},\n",
    "            {\"P_ID\": 15, \"FName\": \"Brad\", \"LName\": \"Kwon\", \"BLocation\": \"San Francisco\", \"BDate\": \"1995-10-31\"},\n",
    "            {\"P_ID\": 16, \"FName\": \"Solomon\", \"LName\": \"Hughes\", \"BLocation\": \"Columbus\", \"BDate\": \"1997-07-07\"},\n",
    "            {\"P_ID\": 17, \"FName\": \"Jacob\", \"LName\": \"Spafford\", \"BLocation\": \"Tampa\", \"BDate\": \"1998-05-28\"},\n",
    "            {\"P_ID\": 18, \"FName\": \"Jonny\", \"LName\": \"Wise\", \"BLocation\": \"Bloomington\", \"BDate\": \"1999-04-01\"},\n",
    "            {\"P_ID\": 19, \"FName\": \"Mark\", \"LName\": \"Holt\", \"BLocation\": \"London\", \"BDate\": \"1992-03-01\"},\n",
    "            {\"P_ID\": 20, \"FName\": \"Steve\", \"LName\": \"Smith\", \"BLocation\": \"Madrid\", \"BDate\": \"1999-03-09\"}]\n"
   ]
  },
  {
   "cell_type": "code",
   "execution_count": 38,
   "metadata": {
    "id": "e68T2EwAUQzL"
   },
   "outputs": [],
   "source": [
    "managers= [{\"P_ID\": 1, \"TName\": \"Cubs\"},\n",
    "           {\"P_ID\": 2, \"TName\": \"Marlins\"},\n",
    "           {\"P_ID\": 3, \"TName\": \"Mets\"},\n",
    "           {\"P_ID\": 4, \"TName\": \"Pirates\"}]"
   ]
  },
  {
   "cell_type": "code",
   "execution_count": 124,
   "metadata": {
    "id": "ydkIgVFK37qZ"
   },
   "outputs": [],
   "source": [
    "umpires= [{\"P_ID\": 19, \"GameID\": 1},\n",
    "          {\"P_ID\": 19, \"GameID\": 1},\n",
    "          {\"P_ID\": 20, \"GameID\": 2},\n",
    "          {\"P_ID\": 21, \"GameID\": 2},\n",
    "          {\"P_ID\": 22, \"GameID\": 3},\n",
    "          {\"P_ID\": 23, \"GameID\": 3},\n",
    "          {\"P_ID\": 24, \"GameID\": 4},\n",
    "          {\"P_ID\": 25, \"GameID\": 4},\n",
    "          {\"P_ID\": 26, \"GameID\": 5},\n",
    "          {\"P_ID\": 27, \"GameID\": 5},\n",
    "          {\"P_ID\": 28, \"GameID\": 6},\n",
    "          {\"P_ID\": 29, \"GameID\": 6},\n",
    "          {\"P_ID\": 30, \"GameID\": 7},\n",
    "          {\"P_ID\": 31, \"GameID\": 7}]"
   ]
  },
  {
   "cell_type": "code",
   "execution_count": 62,
   "metadata": {
    "id": "b2THEnmLVqUJ"
   },
   "outputs": [],
   "source": [
    "coaches= [{\"P_ID\": 5, \"TName\": \"Cubs\"},\n",
    "          {\"P_ID\": 6, \"TName\": \"Cubs\"},\n",
    "          {\"P_ID\": 7, \"TName\": \"Marlins\"},\n",
    "          {\"P_ID\": 8, \"TName\": \"Marlins\"},\n",
    "          {\"P_ID\": 9, \"TName\": \"Mets\"},\n",
    "          {\"P_ID\": 10, \"TName\": \"Mets\"},\n",
    "          {\"P_ID\": 11, \"TName\": \"Pirates\"},\n",
    "          {\"P_ID\": 12, \"TName\": \"Pirates\"}]"
   ]
  },
  {
   "cell_type": "code",
   "execution_count": 152,
   "metadata": {
    "id": "m1mo4n25XWdJ"
   },
   "outputs": [],
   "source": [
    "pitchers= [{\"P_ID\": 13, \"PlayerID\": 1, \"ERA\": \"3.20\"},\n",
    "           {\"P_ID\": 14, \"PlayerID\": 2, \"ERA\": \"2.90\"}]"
   ]
  },
  {
   "cell_type": "code",
   "execution_count": 148,
   "metadata": {
    "id": "NDOlWSBfXvaS"
   },
   "outputs": [],
   "source": [
    "players= [{\"Tname\": \"Cubs\", \"P_ID\": 13, \"PlayerID\": 1, \"BattingO\": \"Left\", \"BA\": \"0.300\"},\n",
    "          {\"Tname\": \"Cubs\", \"P_ID\": 14, \"PlayerID\": 2, \"BattingO\": \"Right\", \"BA\": \"0.275\"},\n",
    "          {\"Tname\": \"Cubs\", \"P_ID\": 15, \"PlayerID\": 3, \"BattingO\": \"Left\", \"BA\": \"0.321\"},\n",
    "          {\"Tname\": \"Marlins\", \"P_ID\": 16, \"PlayerID\": 4, \"BattingO\": \"Left\", \"BA\": \"0.290\"},\n",
    "          {\"Tname\": \"Marlins\", \"P_ID\": 17, \"PlayerID\": 5, \"BattingO\": \"Right\", \"BA\": \"0.278\"},\n",
    "          {\"Tname\": \"Marlins\", \"P_ID\": 18, \"PlayerID\": 6, \"BattingO\": \"Left\", \"BA\": \"0.310\"},\n",
    "          {\"Tname\": \"Mets\", \"P_ID\": 32, \"PlayerID\": 7, \"BattingO\": \"Left\", \"BA\": \"0.287\"},\n",
    "          {\"Tname\": \"Mets\", \"P_ID\": 33, \"PlayerID\": 8, \"BattingO\": \"Right\", \"BA\": \"0.323\"},\n",
    "          {\"Tname\": \"Mets\", \"P_ID\": 34, \"PlayerID\": 9, \"BattingO\": \"Left\", \"BA\": \"0.297\"},\n",
    "          {\"Tname\": \"Pirates\", \"P_ID\": 35, \"PlayerID\": 10, \"BattingO\": \"Right\", \"BA\": \"0.281\"},\n",
    "          {\"Tname\": \"Pirates\", \"P_ID\": 36, \"PlayerID\": 11, \"BattingO\": \"Left\", \"BA\": \"0.330\"},\n",
    "          {\"Tname\": \"Pirates\", \"P_ID\": 37, \"PlayerID\": 12, \"BattingO\": \"Left\", \"BA\": \"0.290\"}]"
   ]
  },
  {
   "cell_type": "code",
   "execution_count": 65,
   "metadata": {
    "id": "ce-rdEUwYYPG"
   },
   "outputs": [],
   "source": [
    "games= [{\"GameID\": 1, \"HTeam\": \"Cubs\", \"VTeam\": \"Marlins\", \"WPitcher\": 13, \"SPitcher\" : \"NULL\", \"GDate\": \"2022-01-09\"},\n",
    "        {\"GameID\": 2, \"HTeam\": \"Marlins\", \"VTeam\": \"Mets\", \"WPitcher\": 13, \"SPitcher\" : \"NULL\", \"GDate\": \"2022-03-04\"},\n",
    "        {\"GameID\": 3, \"HTeam\": \"Mets\", \"VTeam\": \"Pirates\", \"WPitcher\": 14, \"SPitcher\" : \"NULL\", \"GDate\": \"2022-07-19\"},\n",
    "        {\"GameID\": 4, \"HTeam\": \"Pirates\", \"VTeam\": \"Cubs\", \"WPitcher\": 14, \"SPitcher\" : \"NULL\", \"GDate\": \"2022-09-21\"},\n",
    "        {\"GameID\": 5, \"HTeam\": \"Cubs\", \"VTeam\": \"Mets\", \"WPitcher\": 13, \"SPitcher\" : \"NULL\", \"GDate\": \"2022-02-20\"},\n",
    "        {\"GameID\": 6, \"HTeam\": \"Mets\", \"VTeam\": \"Pirates\", \"WPitcher\": 14, \"SPitcher\" : \"NULL\", \"GDate\": \"2022-09-12\"},\n",
    "        {\"GameID\": 7, \"HTeam\": \"Pirates\", \"VTeam\": \"Marlins\", \"WPitcher\": 13, \"SPitcher\" : \"NULL\", \"GDate\": \"2022-08-13\"}]"
   ]
  },
  {
   "cell_type": "code",
   "execution_count": 176,
   "metadata": {
    "id": "0SEWfRBsZwgo"
   },
   "outputs": [],
   "source": [
    "gameplayerstats=[{\"GameID\": 1, \"PlayerID\": 1, \"Singles\": 2, \"Doubles\" : 1, \"Triples\": 0, \"HomeRuns\": 0},\n",
    "                 {\"GameID\": 2, \"PlayerID\": 2, \"Singles\": 0, \"Doubles\" : 2, \"Triples\": 1, \"HomeRuns\": 1},\n",
    "                 {\"GameID\": 3, \"PlayerID\": 3, \"Singles\": 1, \"Doubles\" : 0, \"Triples\": 0, \"HomeRuns\": 1},\n",
    "                 {\"GameID\": 4, \"PlayerID\": 4, \"Singles\": 0, \"Doubles\" : 2, \"Triples\": 0, \"HomeRuns\": 1},\n",
    "                 {\"GameID\": 5, \"PlayerID\": 5, \"Singles\": 2, \"Doubles\" : 0, \"Triples\": 2, \"HomeRuns\": 0},\n",
    "                 {\"GameID\": 6, \"PlayerID\": 6, \"Singles\": 1, \"Doubles\" : 1, \"Triples\": 1, \"HomeRuns\": 2},\n",
    "                 {\"GameID\": 7, \"PlayerID\": 7, \"Singles\": 2, \"Doubles\" : 0, \"Triples\": 2, \"HomeRuns\": 0},\n",
    "                 {\"GameID\": 1, \"PlayerID\": 8, \"Singles\": 0, \"Doubles\" : 2, \"Triples\": 2, \"HomeRuns\": 2},\n",
    "                 {\"GameID\": 2, \"PlayerID\": 9, \"Singles\": 1, \"Doubles\" : 1, \"Triples\": 1, \"HomeRuns\": 0},\n",
    "                 {\"GameID\": 3, \"PlayerID\": 10, \"Singles\": 0, \"Doubles\" : 2, \"Triples\": 0, \"HomeRuns\": 2},\n",
    "                 {\"GameID\": 4, \"PlayerID\": 11, \"Singles\": 2, \"Doubles\" : 1, \"Triples\": 0, \"HomeRuns\": 1},\n",
    "                 {\"GameID\": 5, \"PlayerID\": 12, \"Singles\": 1, \"Doubles\" : 0, \"Triples\": 1, \"HomeRuns\": 1}]"
   ]
  },
  {
   "cell_type": "code",
   "execution_count": 1,
   "metadata": {
    "id": "nGHxZydLpAuk"
   },
   "outputs": [],
   "source": [
    "score= [{\"TeamId\": 1, \"GameID\": 1, \"Runs\": 2, \"Hits\": 3, \"Errors\": 1},\n",
    "        {\"TeamId\": 2, \"GameID\": 1, \"Runs\": 5, \"Hits\": 4, \"Errors\": 2},\n",
    "        {\"TeamId\": 2, \"GameID\": 2, \"Runs\": 7, \"Hits\": 0, \"Errors\": 1},\n",
    "        {\"TeamId\": 3, \"GameID\": 2, \"Runs\": 3, \"Hits\": 4, \"Errors\": 2},\n",
    "        {\"TeamId\": 3, \"GameID\": 3, \"Runs\": 5, \"Hits\": 2, \"Errors\": 2},\n",
    "        {\"TeamId\": 4, \"GameID\": 3, \"Runs\": 2, \"Hits\": 0, \"Errors\": 1},\n",
    "        {\"TeamId\": 4, \"GameID\": 4, \"Runs\": 2, \"Hits\": 3, \"Errors\": 2},\n",
    "        {\"TeamId\": 1, \"GameID\": 4, \"Runs\": 1, \"Hits\": 2, \"Errors\": 1},\n",
    "        {\"TeamId\": 1, \"GameID\": 5, \"Runs\": 1, \"Hits\": 0, \"Errors\": 1},\n",
    "        {\"TeamId\": 1, \"GameID\": 5, \"Runs\": 2, \"Hits\": 2, \"Errors\": 3},\n",
    "        {\"TeamId\": 1, \"GameID\": 6, \"Runs\": 3, \"Hits\": 1, \"Errors\": 1},\n",
    "        {\"TeamId\": 1, \"GameID\": 6, \"Runs\": 0, \"Hits\": 0, \"Errors\": 1},\n",
    "        {\"TeamId\": 1, \"GameID\": 7, \"Runs\": 1, \"Hits\": 2, \"Errors\": 0},\n",
    "        {\"TeamId\": 1, \"GameID\": 7, \"Runs\": 1, \"Hits\": 2, \"Errors\": 2}]"
   ]
  },
  {
   "cell_type": "markdown",
   "metadata": {
    "id": "r1DuKjBql0NJ"
   },
   "source": [
    "**NODES**"
   ]
  },
  {
   "cell_type": "code",
   "execution_count": null,
   "metadata": {
    "id": "FPPWYfO9qk8h"
   },
   "outputs": [],
   "source": [
    "driver.execute_query(\"\"\"\n",
    "     CREATE (m:Managers {name: \"manager\"})-[:MANAGES]->(t:Teams {name: \"team\"})\n",
    "     CREATE (c:Coaches {name: \"coach\"})-[:COACHES]->(t)\n",
    "     CREATE (p: Players {name: \"player\"})-[:PLAYS_FOR]->(t)\n",
    "     CREATE (pi: Pitchers {name: \"pitcher\"})-[:PITCHES_FOR]->(t)\n",
    "     CREATE (t)-[:PLAYS]->(g: Games {name: \"game\"})\n",
    "     CREATE (p)-[:PLAYS_IN]->(g)\n",
    "     CREATE (gps: GamePlayerStats {name: \"gameplayerstats\"})-[:STATS_FOR]->(p)\n",
    "     CREATE (s: scores {name: \"score\"})-[:SCORE_FOR]->(g)\n",
    "     CREATE (u: umpires {name: \"umpires\"})-[:UMPIRES]->(g);\"\"\",\n",
    "      database_=\"neo4j\")"
   ]
  },
  {
   "cell_type": "markdown",
   "metadata": {
    "id": "gIo5R6eSRxOj"
   },
   "source": [
    "STARTTTTTT"
   ]
  },
  {
   "cell_type": "code",
   "execution_count": 179,
   "metadata": {
    "colab": {
     "base_uri": "https://localhost:8080/"
    },
    "id": "SxFfZ05x9--6",
    "outputId": "01a33219-40b0-445c-bf99-5e4fe211a0d9"
   },
   "outputs": [
    {
     "name": "stderr",
     "output_type": "stream",
     "text": [
      "<ipython-input-179-60dbe23193b7>:2: DeprecationWarning: Using a driver after it has been closed is deprecated. Future versions of the driver will raise an error.\n",
      "  driver.execute_query('CREATE (m:Manager {name: $teamName})',\n"
     ]
    }
   ],
   "source": [
    "for m in managers:\n",
    "  for p in personnel:\n",
    "    driver.execute_query('CREATE (m:Manager {name: $teamName})',\n",
    "                         {'teamName': m['TName']},\n",
    "                         database_=\"neo4j\")"
   ]
  },
  {
   "cell_type": "code",
   "execution_count": 180,
   "metadata": {
    "colab": {
     "base_uri": "https://localhost:8080/"
    },
    "id": "d3RBl4e3_HHl",
    "outputId": "3238c66b-8d24-4750-c82d-84140e8be0b2"
   },
   "outputs": [
    {
     "name": "stderr",
     "output_type": "stream",
     "text": [
      "<ipython-input-180-cf6b024ed854>:2: DeprecationWarning: Using a driver after it has been closed is deprecated. Future versions of the driver will raise an error.\n",
      "  driver.execute_query('CREATE (t:Team {name: $teamName, location: $location, division: $division, league: $league})',\n"
     ]
    }
   ],
   "source": [
    "for t in teams:\n",
    "  driver.execute_query('CREATE (t:Team {name: $teamName, location: $location, division: $division, league: $league})',\n",
    "                         {'teamName': t['TName'], 'location': t['Location'], 'division': t['Division'], 'league': t['League']},\n",
    "                         database_=\"neo4j\")"
   ]
  },
  {
   "cell_type": "code",
   "execution_count": 181,
   "metadata": {
    "colab": {
     "base_uri": "https://localhost:8080/"
    },
    "id": "Jh3dGVRfJH5k",
    "outputId": "ce37e8f0-e7b6-4dae-cc13-f65ffafae8a3"
   },
   "outputs": [
    {
     "name": "stderr",
     "output_type": "stream",
     "text": [
      "<ipython-input-181-618d66f511f6>:2: DeprecationWarning: Using a driver after it has been closed is deprecated. Future versions of the driver will raise an error.\n",
      "  driver.execute_query('CREATE(c:Coach {name: $teamName})',\n"
     ]
    }
   ],
   "source": [
    "for c in coaches:\n",
    "  driver.execute_query('CREATE(c:Coach {name: $teamName})',\n",
    "                       {'teamName': c['TName']},\n",
    "                       database_=\"neo4j\")"
   ]
  },
  {
   "cell_type": "code",
   "execution_count": 182,
   "metadata": {
    "colab": {
     "base_uri": "https://localhost:8080/"
    },
    "id": "lyhm6JgHNFQJ",
    "outputId": "8c657920-e78a-4996-9896-425bb00b51f6"
   },
   "outputs": [
    {
     "name": "stderr",
     "output_type": "stream",
     "text": [
      "<ipython-input-182-347c31e00940>:2: DeprecationWarning: Using a driver after it has been closed is deprecated. Future versions of the driver will raise an error.\n",
      "  driver.execute_query('CREATE(p:Player {Team: $Tname, PlayerID: $PlayerID, BattingO: $BattingO, BA: $BA})',\n"
     ]
    }
   ],
   "source": [
    "for p in players:\n",
    "    driver.execute_query('CREATE(p:Player {Team: $Tname, PlayerID: $PlayerID, BattingO: $BattingO, BA: $BA})',\n",
    "                       {'Tname': p['Tname'], 'PlayerID': p['PlayerID'], 'BattingO': p['BattingO'], 'BA': p['BA']},\n",
    "                       database_=\"neo4j\")"
   ]
  },
  {
   "cell_type": "code",
   "execution_count": 183,
   "metadata": {
    "colab": {
     "base_uri": "https://localhost:8080/"
    },
    "id": "-ZEpGAkzOFDD",
    "outputId": "f4e096e4-b628-4f97-bedb-8f23e62810b9"
   },
   "outputs": [
    {
     "name": "stderr",
     "output_type": "stream",
     "text": [
      "<ipython-input-183-7c7e521c0652>:2: DeprecationWarning: Using a driver after it has been closed is deprecated. Future versions of the driver will raise an error.\n",
      "  driver.execute_query('CREATE(pitch:Pitcher {PlayerID: $PlayerID, ERA: $ERA})',\n"
     ]
    }
   ],
   "source": [
    "for pitch in pitchers:\n",
    "    driver.execute_query('CREATE(pitch:Pitcher {PlayerID: $PlayerID, ERA: $ERA})',\n",
    "                       {'PlayerID': pitch['PlayerID'], 'ERA': pitch['ERA']},\n",
    "                       database_=\"neo4j\")"
   ]
  },
  {
   "cell_type": "code",
   "execution_count": 184,
   "metadata": {
    "colab": {
     "base_uri": "https://localhost:8080/"
    },
    "id": "49o7xCszOSzb",
    "outputId": "771fd5a8-d475-4ae1-a2c7-baec8e6c31f7"
   },
   "outputs": [
    {
     "name": "stderr",
     "output_type": "stream",
     "text": [
      "<ipython-input-184-baa2395dc857>:2: DeprecationWarning: Using a driver after it has been closed is deprecated. Future versions of the driver will raise an error.\n",
      "  driver.execute_query('CREATE(u:Umpire {GameID: $GameID})',\n"
     ]
    }
   ],
   "source": [
    "for u in umpires:\n",
    "  driver.execute_query('CREATE(u:Umpire {GameID: $GameID})',\n",
    "                       {'GameID': u['GameID']},\n",
    "                       database_=\"neo4j\")"
   ]
  },
  {
   "cell_type": "code",
   "execution_count": 185,
   "metadata": {
    "colab": {
     "base_uri": "https://localhost:8080/"
    },
    "id": "u198v8HcPNc4",
    "outputId": "2e7c7ea9-86bb-4a92-9177-1ad3afcce46e"
   },
   "outputs": [
    {
     "name": "stderr",
     "output_type": "stream",
     "text": [
      "<ipython-input-185-bd54586c4e5c>:2: DeprecationWarning: Using a driver after it has been closed is deprecated. Future versions of the driver will raise an error.\n",
      "  driver.execute_query('CREATE(g:Game {GameID: $GameID, HomeTeam: $HTeam, VisitTeam: $VTeam, WPitcher: $WPitcher, SPitcher: $SPitcher, GDate: $GDate})',\n"
     ]
    }
   ],
   "source": [
    "for g in games:\n",
    "  driver.execute_query('CREATE(g:Game {GameID: $GameID, HomeTeam: $HTeam, VisitTeam: $VTeam, WPitcher: $WPitcher, SPitcher: $SPitcher, GDate: $GDate})',\n",
    "                       {'GameID': g['GameID'], 'HTeam': g['HTeam'], 'VTeam': g['VTeam'], 'WPitcher': g['WPitcher'], 'SPitcher': g['SPitcher'], 'GDate': g['GDate']},\n",
    "                       database_=\"neo4j\")"
   ]
  },
  {
   "cell_type": "code",
   "execution_count": 186,
   "metadata": {
    "colab": {
     "base_uri": "https://localhost:8080/"
    },
    "id": "u95I26xDQCOh",
    "outputId": "66f627d1-6af1-4c30-fbcd-cc3151e5b34f"
   },
   "outputs": [
    {
     "name": "stderr",
     "output_type": "stream",
     "text": [
      "<ipython-input-186-b99d20f1234f>:2: DeprecationWarning: Using a driver after it has been closed is deprecated. Future versions of the driver will raise an error.\n",
      "  driver.execute_query('CREATE(s:Score {Team: $TeamId, Game: $GameID, Runs: $Runs, Hits: $Hits, Errors: $Errors})',\n"
     ]
    }
   ],
   "source": [
    "for s in score:\n",
    "  driver.execute_query('CREATE(s:Score {Team: $TeamId, Game: $GameID, Runs: $Runs, Hits: $Hits, Errors: $Errors})',\n",
    "                       {'TeamId': s['TeamId'], 'GameID': s['GameID'], 'Runs': s['Runs'], 'Hits': s['Hits'], 'Errors': s['Errors']},\n",
    "                       database_=\"neo4j\")"
   ]
  },
  {
   "cell_type": "code",
   "execution_count": 187,
   "metadata": {
    "colab": {
     "base_uri": "https://localhost:8080/"
    },
    "id": "6SlaMMOeQvnn",
    "outputId": "7caa2041-6299-4787-9866-9644b78bfd7f"
   },
   "outputs": [
    {
     "name": "stderr",
     "output_type": "stream",
     "text": [
      "<ipython-input-187-2e801b8e578d>:2: DeprecationWarning: Using a driver after it has been closed is deprecated. Future versions of the driver will raise an error.\n",
      "  driver.execute_query('CREATE(gps:GamePlayerStats {Game: $GameID, Player: $PlayerID, Singles: $Singles, Triples: $Triples, HomeRuns: $HomeRuns})',\n"
     ]
    }
   ],
   "source": [
    "for gps in gameplayerstats:\n",
    "  driver.execute_query('CREATE(gps:GamePlayerStats {Game: $GameID, Player: $PlayerID, Singles: $Singles, Triples: $Triples, HomeRuns: $HomeRuns})',\n",
    "                       {'GameID': gps['GameID'], 'PlayerID': gps['PlayerID'], 'Singles': gps['Singles'], 'Triples': gps['Triples'], 'HomeRuns': gps['HomeRuns']},\n",
    "                       database_=\"neo4j\")"
   ]
  },
  {
   "cell_type": "markdown",
   "metadata": {
    "id": "p1Kv0zAZNAG8"
   },
   "source": [
    "**RELATIONSHIP**"
   ]
  },
  {
   "cell_type": "code",
   "execution_count": 188,
   "metadata": {
    "colab": {
     "base_uri": "https://localhost:8080/"
    },
    "id": "MmOr56bFABV6",
    "outputId": "daee03d1-cedd-4aa3-d1bf-46c056e7f2bb"
   },
   "outputs": [
    {
     "name": "stderr",
     "output_type": "stream",
     "text": [
      "<ipython-input-188-7eb3d730b313>:1: DeprecationWarning: Using a driver after it has been closed is deprecated. Future versions of the driver will raise an error.\n",
      "  driver.execute_query(\"\"\"\n"
     ]
    },
    {
     "data": {
      "text/plain": [
       "EagerResult(records=[], summary=<neo4j._work.summary.ResultSummary object at 0x7aee5f485660>, keys=[])"
      ]
     },
     "execution_count": 188,
     "metadata": {},
     "output_type": "execute_result"
    }
   ],
   "source": [
    "driver.execute_query(\"\"\"\n",
    "        MATCH (m:Manager), (t:Team)\n",
    "        WHERE m.name = t.name\n",
    "        MERGE (m)-[:MANAGES]->(t)\"\"\",\n",
    "                     database_=\"neo4j\")"
   ]
  },
  {
   "cell_type": "code",
   "execution_count": 189,
   "metadata": {
    "colab": {
     "base_uri": "https://localhost:8080/"
    },
    "id": "0i64BG8PL-qw",
    "outputId": "e0757cca-3350-4630-d1b6-298d14067e12"
   },
   "outputs": [
    {
     "name": "stderr",
     "output_type": "stream",
     "text": [
      "<ipython-input-189-8819ace427f8>:1: DeprecationWarning: Using a driver after it has been closed is deprecated. Future versions of the driver will raise an error.\n",
      "  driver.execute_query(\"\"\"\n"
     ]
    },
    {
     "data": {
      "text/plain": [
       "EagerResult(records=[], summary=<neo4j._work.summary.ResultSummary object at 0x7aee5f485870>, keys=[])"
      ]
     },
     "execution_count": 189,
     "metadata": {},
     "output_type": "execute_result"
    }
   ],
   "source": [
    "driver.execute_query(\"\"\"\n",
    "        MATCH (c:Coach), (t:Team)\n",
    "        WHERE c.name = t.name\n",
    "        MERGE (c)-[:COACHES]->(t)\"\"\",\n",
    "                     database_=\"neo4j\")"
   ]
  },
  {
   "cell_type": "code",
   "execution_count": 190,
   "metadata": {
    "colab": {
     "base_uri": "https://localhost:8080/"
    },
    "id": "u8u-j_zUR6DM",
    "outputId": "b5a51d71-3ddc-44a4-ea80-ce5000ffb0d3"
   },
   "outputs": [
    {
     "name": "stderr",
     "output_type": "stream",
     "text": [
      "<ipython-input-190-a9db0e34ac7a>:1: DeprecationWarning: Using a driver after it has been closed is deprecated. Future versions of the driver will raise an error.\n",
      "  driver.execute_query(\"\"\"\n",
      "<ipython-input-190-a9db0e34ac7a>:7: DeprecationWarning: Using a driver after it has been closed is deprecated. Future versions of the driver will raise an error.\n",
      "  driver.execute_query(\"\"\"\n"
     ]
    },
    {
     "data": {
      "text/plain": [
       "EagerResult(records=[], summary=<neo4j._work.summary.ResultSummary object at 0x7aee600f9960>, keys=[])"
      ]
     },
     "execution_count": 190,
     "metadata": {},
     "output_type": "execute_result"
    }
   ],
   "source": [
    "driver.execute_query(\"\"\"\n",
    "        MATCH (t:Team), (g:Game)\n",
    "        WHERE t.name = g.HomeTeam\n",
    "        MERGE (t)-[:PLAYS]->(g)\"\"\",\n",
    "                database_=\"neo4j\")\n",
    "\n",
    "driver.execute_query(\"\"\"\n",
    "        MATCH (t:Team), (g:Game)\n",
    "        WHERE t.name = g.VisitTeam\n",
    "        MERGE (t)-[:PLAYS]->(g)\"\"\",\n",
    "                database_=\"neo4j\")"
   ]
  },
  {
   "cell_type": "code",
   "execution_count": 191,
   "metadata": {
    "colab": {
     "base_uri": "https://localhost:8080/"
    },
    "id": "DYGIQmZRSNWx",
    "outputId": "5c98ec85-1d8a-42e1-84e6-de4d8a78d437"
   },
   "outputs": [
    {
     "name": "stderr",
     "output_type": "stream",
     "text": [
      "<ipython-input-191-becbefce422a>:1: DeprecationWarning: Using a driver after it has been closed is deprecated. Future versions of the driver will raise an error.\n",
      "  driver.execute_query(\"\"\"\n"
     ]
    },
    {
     "data": {
      "text/plain": [
       "EagerResult(records=[], summary=<neo4j._work.summary.ResultSummary object at 0x7aee5f486380>, keys=[])"
      ]
     },
     "execution_count": 191,
     "metadata": {},
     "output_type": "execute_result"
    }
   ],
   "source": [
    "driver.execute_query(\"\"\"\n",
    "        MATCH (s:Score), (g:Game)\n",
    "        WHERE s.Game = g.GameID\n",
    "        MERGE (s)-[:SCORES_FOR]->(g)\"\"\",\n",
    "                database_=\"neo4j\")"
   ]
  },
  {
   "cell_type": "code",
   "execution_count": 192,
   "metadata": {
    "colab": {
     "base_uri": "https://localhost:8080/"
    },
    "id": "yJ9S37RESNS4",
    "outputId": "cc197311-47ca-4a90-af3e-2473055cf836"
   },
   "outputs": [
    {
     "name": "stderr",
     "output_type": "stream",
     "text": [
      "<ipython-input-192-84c87db80488>:1: DeprecationWarning: Using a driver after it has been closed is deprecated. Future versions of the driver will raise an error.\n",
      "  driver.execute_query(\"\"\"\n"
     ]
    },
    {
     "data": {
      "text/plain": [
       "EagerResult(records=[], summary=<neo4j._work.summary.ResultSummary object at 0x7aee600fba00>, keys=[])"
      ]
     },
     "execution_count": 192,
     "metadata": {},
     "output_type": "execute_result"
    }
   ],
   "source": [
    "driver.execute_query(\"\"\"\n",
    "        MATCH (u:Umpire), (g:Game)\n",
    "        WHERE u.GameID = g.GameID\n",
    "        MERGE (u)-[:UMPIRES]->(g)\"\"\",\n",
    "                database_=\"neo4j\")"
   ]
  },
  {
   "cell_type": "code",
   "execution_count": 194,
   "metadata": {
    "colab": {
     "base_uri": "https://localhost:8080/"
    },
    "id": "71CNG5WxSNHf",
    "outputId": "8a6fb64c-2147-4712-fb93-8933bef69b75"
   },
   "outputs": [
    {
     "name": "stderr",
     "output_type": "stream",
     "text": [
      "<ipython-input-194-d74a525ed463>:1: DeprecationWarning: Using a driver after it has been closed is deprecated. Future versions of the driver will raise an error.\n",
      "  driver.execute_query(\"\"\"\n"
     ]
    },
    {
     "data": {
      "text/plain": [
       "EagerResult(records=[], summary=<neo4j._work.summary.ResultSummary object at 0x7aee9c2d3550>, keys=[])"
      ]
     },
     "execution_count": 194,
     "metadata": {},
     "output_type": "execute_result"
    }
   ],
   "source": [
    "driver.execute_query(\"\"\"\n",
    "        MATCH (gps:GamePlayerStats), (p:Player)\n",
    "        WHERE gps.Player = p.PlayerID\n",
    "        MERGE (gps)-[:STATS_FOR]->(p)\"\"\",\n",
    "                database_=\"neo4j\")"
   ]
  },
  {
   "cell_type": "code",
   "execution_count": 195,
   "metadata": {
    "colab": {
     "base_uri": "https://localhost:8080/"
    },
    "id": "F7TqHP3laMoP",
    "outputId": "3e91267b-5b5d-4d59-9a88-9e8621563160"
   },
   "outputs": [
    {
     "name": "stderr",
     "output_type": "stream",
     "text": [
      "<ipython-input-195-8d0c5475255a>:1: DeprecationWarning: Using a driver after it has been closed is deprecated. Future versions of the driver will raise an error.\n",
      "  driver.execute_query(\"\"\"\n"
     ]
    },
    {
     "data": {
      "text/plain": [
       "EagerResult(records=[], summary=<neo4j._work.summary.ResultSummary object at 0x7aee5f485480>, keys=[])"
      ]
     },
     "execution_count": 195,
     "metadata": {},
     "output_type": "execute_result"
    }
   ],
   "source": [
    "driver.execute_query(\"\"\"\n",
    "        MATCH (p:Player), (t:Team)\n",
    "        WHERE p.Team = t.name\n",
    "        MERGE (p)-[:PLAYS_FOR]->(t)\"\"\",\n",
    "                database_=\"neo4j\")"
   ]
  },
  {
   "cell_type": "code",
   "execution_count": 196,
   "metadata": {
    "colab": {
     "base_uri": "https://localhost:8080/"
    },
    "id": "gQNbWvssekjL",
    "outputId": "771127b8-3b07-4046-b758-d12942549de9"
   },
   "outputs": [
    {
     "name": "stderr",
     "output_type": "stream",
     "text": [
      "<ipython-input-196-a106f2a6f1ba>:1: DeprecationWarning: Using a driver after it has been closed is deprecated. Future versions of the driver will raise an error.\n",
      "  driver.execute_query(\"\"\"\n"
     ]
    },
    {
     "data": {
      "text/plain": [
       "EagerResult(records=[], summary=<neo4j._work.summary.ResultSummary object at 0x7aee9c2d3730>, keys=[])"
      ]
     },
     "execution_count": 196,
     "metadata": {},
     "output_type": "execute_result"
    }
   ],
   "source": [
    "driver.execute_query(\"\"\"\n",
    "        MATCH (pitch:Pitcher), (p:Player)\n",
    "        WHERE pitch.PlayerID = p.PlayerID\n",
    "        MERGE (pitch)<-[:IS_A]-(p)\"\"\",\n",
    "                database_=\"neo4j\")"
   ]
  },
  {
   "cell_type": "code",
   "execution_count": null,
   "metadata": {
    "id": "ejZfwK2XqEc6"
   },
   "outputs": [],
   "source": [
    "MATCH (m:Manager)-[:MANAGES]->(t:Team)\n",
    "MATCH (c:Coach)-[:COACHES]->(t:Team)\n",
    "MATCH (p:Player)-[:PLAYS_FOR]->(t:Team)\n",
    "RETURN t,m,c,p"
   ]
  },
  {
   "cell_type": "code",
   "execution_count": null,
   "metadata": {
    "id": "Sj0xknpxdCrx"
   },
   "outputs": [],
   "source": [
    "MATCH (s:Score)-[:SCORES_FOR]->(g:Game)\n",
    "WITH g, SUM(s.Hits) AS totalHits\n",
    "RETURN g, totalHits\n",
    "ORDER BY totalHits DESC"
   ]
  }
 ],
 "metadata": {
  "colab": {
   "provenance": []
  },
  "kernelspec": {
   "display_name": "Python 3 (ipykernel)",
   "language": "python",
   "name": "python3"
  },
  "language_info": {
   "codemirror_mode": {
    "name": "ipython",
    "version": 3
   },
   "file_extension": ".py",
   "mimetype": "text/x-python",
   "name": "python",
   "nbconvert_exporter": "python",
   "pygments_lexer": "ipython3",
   "version": "3.10.9"
  }
 },
 "nbformat": 4,
 "nbformat_minor": 1
}
